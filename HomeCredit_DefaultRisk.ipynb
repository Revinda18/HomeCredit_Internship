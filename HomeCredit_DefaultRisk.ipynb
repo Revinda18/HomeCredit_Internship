{
  "nbformat": 4,
  "nbformat_minor": 0,
  "metadata": {
    "colab": {
      "provenance": []
    },
    "kernelspec": {
      "name": "python3",
      "display_name": "Python 3"
    },
    "language_info": {
      "name": "python"
    }
  },
  "cells": [
    {
      "cell_type": "markdown",
      "source": [
        "# Problem Research (Rumusan Masalah Penelitian)\n",
        "\n",
        "1.   Bagaimana membangun model prediksi risiko gagal bayar pada pelanggan Home Credit dengan memanfaatkan data historis aplikasi kredit dan fitur turunan (engineered features)?\n",
        "2.   Menentukan model terbaik berdasarkan performa metrik evaluasi seperti ROC-AUC, AUC-PR, dan Brier Score?\n",
        "\n",
        "\n"
      ],
      "metadata": {
        "id": "B9LGpkG0TGQH"
      }
    },
    {
      "cell_type": "markdown",
      "source": [
        "# Tujuan Penelitian\n",
        "\n",
        "Tujuan penelitian ini dibagi menjadi tiga aspek utama:\n",
        "\n",
        "1.   Tujuan Umum :\n",
        "Mengembangkan model pembelajaran mesin (machine learning) untuk memprediksi kemungkinan gagal bayar pelanggan Home Credit berdasarkan data aplikasi kredit dan perilaku keuangan.\n",
        "\n",
        "2. Tujuan Khusus :\n",
        "*   Melakukan eksplorasi dan pembersihan data (EDA dan preprocessing) untuk menemukan pola penting pada karakteristik pelanggan dan riwayat kredit\n",
        "*   Membangun dan membandingkan beberapa model prediksi, yaitu Logistic Regression, Random Forest, dan XGBoost, guna menentukan model dengan performa terbaik.\n",
        "*   Mengukur dan membandingkan performa setiap model menggunakan metrik evaluasi yang relevan dengan kasus risiko kredit.\n",
        "*  Menyusun rekomendasi bisnis berdasarkan hasil analisis dan segmentasi risiko pelanggan (misalnya tipe pekerjaan dengan default rate tinggi)."
      ],
      "metadata": {
        "id": "unRwf-xJTUUf"
      }
    },
    {
      "cell_type": "markdown",
      "source": [
        "# Metrik Evaluasi\n",
        "\n",
        "Kinerja model dievaluasi dengan beberapa metrik utama yang sesuai dengan karakteristik data risiko kredit yang tidak seimbang.\n",
        "\n",
        "1.   ROC-AUC (Receiver Operating Characteristic - Area Under Curve) digunakan untuk menilai kemampuan model dalam membedakan antara debitur yang akan gagal bayar dan yang tidak. Semakin mendekati nilai 1, semakin baik kemampuan diskriminatif model.\n",
        "2.   AUC-PR (Area Under Precision-Recall Curve) digunakan karena data default biasanya tidak seimbang (jumlah nasabah default lebih sedikit). Metrik ini lebih menekankan pada kemampuan model untuk mendeteksi debitur gagal bayar dengan presisi yang tinggi.\n",
        "3.   KS Statistic (Kolmogorov–Smirnov) digunakan untuk melihat sejauh mana model mampu memisahkan distribusi probabilitas antara kelas default dan non-default. Nilai KS yang tinggi menunjukkan pemisahan yang baik.\n",
        "4.   Brier Score digunakan untuk mengukur seberapa baik probabilitas prediksi model mencerminkan kenyataan. Nilai Brier Score yang lebih kecil menunjukkan prediksi yang lebih terkalibrasi dan akurat.\n",
        "\n"
      ],
      "metadata": {
        "id": "Cg9VnHkVT2sx"
      }
    },
    {
      "cell_type": "markdown",
      "source": [
        "## Import library"
      ],
      "metadata": {
        "id": "8kOS-QFoPD_j"
      }
    },
    {
      "cell_type": "code",
      "source": [
        "import os\n",
        "from pathlib import Path\n",
        "import gc\n",
        "import time\n",
        "import numpy as np\n",
        "import pandas as pd\n",
        "import matplotlib.pyplot as plt\n",
        "\n",
        "# scikit-learn\n",
        "from sklearn.model_selection import train_test_split, StratifiedKFold, RandomizedSearchCV\n",
        "from sklearn.preprocessing import StandardScaler\n",
        "from sklearn.impute import SimpleImputer\n",
        "from sklearn.linear_model import LogisticRegression\n",
        "from sklearn.metrics import (\n",
        "    roc_auc_score, average_precision_score, brier_score_loss, roc_curve,\n",
        "    precision_recall_curve, confusion_matrix, precision_score, recall_score, f1_score\n",
        ")\n",
        "from sklearn.pipeline import Pipeline\n",
        "from sklearn.ensemble import RandomForestClassifier\n",
        "\n",
        "# xgboost\n",
        "import xgboost as xgb\n",
        "from xgboost import XGBClassifier\n",
        "\n",
        "# shap\n",
        "import shap\n",
        "\n",
        "# util save\n",
        "import joblib\n",
        "\n",
        "# Supress warnings visual clutter\n",
        "import warnings\n",
        "warnings.filterwarnings(\"ignore\")"
      ],
      "metadata": {
        "id": "iljhrJv-Nwt0"
      },
      "execution_count": 27,
      "outputs": []
    },
    {
      "cell_type": "markdown",
      "source": [
        "## Konfigurasi path & parameter"
      ],
      "metadata": {
        "id": "9VfRk4_6PBGw"
      }
    },
    {
      "cell_type": "code",
      "source": [
        "DATA_DIR = Path(\"/content\")\n",
        "OUTPUT_DIR = Path(\"output\")\n",
        "OUTPUT_DIR.mkdir(exist_ok=True)\n",
        "\n",
        "RANDOM_STATE = 42\n",
        "np.random.seed(RANDOM_STATE)\n",
        "\n",
        "FILES = {\n",
        "    \"app_train\": \"application_train.csv\",\n",
        "    \"app_test\": \"application_test.csv\",\n",
        "    \"previous\": \"previous_application.csv\",\n",
        "    \"installments\": \"installments_payments.csv\",\n",
        "    \"cc_bal\": \"credit_card_balance.csv\",\n",
        "    \"pos_bal\": \"POS_CASH_balance.csv\",\n",
        "    \"bureau\": \"bureau.csv\",\n",
        "    \"bbal\": \"bureau_balance.csv\",\n",
        "    \"sample_submission\": \"sample_submission.csv\",\n",
        "    \"col_desc\": \"HomeCredit_columns_description.csv\"\n",
        "}\n"
      ],
      "metadata": {
        "id": "-xUZi__iN0ED"
      },
      "execution_count": 28,
      "outputs": []
    },
    {
      "cell_type": "markdown",
      "source": [
        "## Load csv"
      ],
      "metadata": {
        "id": "JgMOzSecPKfx"
      }
    },
    {
      "cell_type": "code",
      "source": [
        "def load_if_exists(fname):\n",
        "    p = DATA_DIR / fname\n",
        "    if not p.exists():\n",
        "        print(f\"[WARN] File not found: {p}. Akan dilewati.\")\n",
        "        return None\n",
        "\n",
        "    print(f\"Loading {p} ...\")\n",
        "    try:\n",
        "        # coba load dengan utf-8 dulu\n",
        "        df = pd.read_csv(p, low_memory=False)\n",
        "    except UnicodeDecodeError:\n",
        "        try:\n",
        "            # fallback ke latin1\n",
        "            df = pd.read_csv(p, encoding=\"latin1\", low_memory=False)\n",
        "            print(\" -> Dibuka dengan encoding='latin1'\")\n",
        "        except Exception as e:\n",
        "            try:\n",
        "                # fallback terakhir: ISO-8859-1\n",
        "                df = pd.read_csv(p, encoding=\"ISO-8859-1\", low_memory=False)\n",
        "                print(\" -> Dibuka dengan encoding='ISO-8859-1'\")\n",
        "            except Exception as e2:\n",
        "                print(f\"[ERROR] Gagal membaca {p}: {e2}\")\n",
        "                return None\n",
        "    print(f\" -> shape: {df.shape}\")\n",
        "    return df\n",
        "\n",
        "# Load Semua File (dengan handling otomatis)\n",
        "app_train = load_if_exists(FILES[\"app_train\"])\n",
        "app_test  = load_if_exists(FILES[\"app_test\"])\n",
        "previous  = load_if_exists(FILES[\"previous\"])\n",
        "install   = load_if_exists(FILES[\"installments\"])\n",
        "cc_bal    = load_if_exists(FILES[\"cc_bal\"])\n",
        "pos_bal   = load_if_exists(FILES[\"pos_bal\"])\n",
        "bureau    = load_if_exists(FILES[\"bureau\"])\n",
        "bbal      = load_if_exists(FILES[\"bbal\"])\n",
        "sample_submission = load_if_exists(FILES[\"sample_submission\"])\n",
        "col_desc  = load_if_exists(FILES[\"col_desc\"])"
      ],
      "metadata": {
        "colab": {
          "base_uri": "https://localhost:8080/"
        },
        "id": "TqQJbW3AN7ue",
        "outputId": "391ee8f3-1a28-4136-d04c-cc9f1ee91817"
      },
      "execution_count": 34,
      "outputs": [
        {
          "output_type": "stream",
          "name": "stdout",
          "text": [
            "Loading /content/application_train.csv ...\n",
            " -> shape: (3864, 122)\n",
            "Loading /content/application_test.csv ...\n",
            " -> shape: (3850, 121)\n",
            "Loading /content/previous_application.csv ...\n",
            " -> shape: (205661, 37)\n",
            "Loading /content/installments_payments.csv ...\n",
            " -> shape: (907501, 8)\n",
            "Loading /content/credit_card_balance.csv ...\n",
            " -> shape: (459851, 23)\n",
            "Loading /content/POS_CASH_balance.csv ...\n",
            " -> shape: (53381, 8)\n",
            "Loading /content/bureau.csv ...\n",
            " -> shape: (550138, 17)\n",
            "Loading /content/bureau_balance.csv ...\n",
            " -> shape: (3660853, 3)\n",
            "Loading /content/sample_submission.csv ...\n",
            " -> shape: (48744, 2)\n",
            "Loading /content/HomeCredit_columns_description.csv ...\n",
            " -> Dibuka dengan encoding='latin1'\n",
            " -> shape: (219, 5)\n"
          ]
        }
      ]
    },
    {
      "cell_type": "code",
      "source": [
        "# Pastikan file utama tersedia\n",
        "if app_train is None:\n",
        "    raise FileNotFoundError(f\" 'application_train.csv' tidak ditemukan di {DATA_DIR}. Upload dulu ke folder tersebut.\")\n",
        "\n",
        "print(\"\\nSemua file berhasil di-load tanpa error encoding.\")"
      ],
      "metadata": {
        "colab": {
          "base_uri": "https://localhost:8080/"
        },
        "id": "TMVTQMlcOFY1",
        "outputId": "58011adf-2988-4d5b-daa8-768eaf91e820"
      },
      "execution_count": 32,
      "outputs": [
        {
          "output_type": "stream",
          "name": "stdout",
          "text": [
            "\n",
            "Semua file berhasil di-load tanpa error encoding.\n"
          ]
        }
      ]
    },
    {
      "cell_type": "markdown",
      "source": [
        "## Problem Research"
      ],
      "metadata": {
        "id": "dcZTDi4XQO37"
      }
    },
    {
      "cell_type": "code",
      "source": [
        "problem_statement = \"\"\"Problem: memprediksi probabilitas gagal bayar (TARGET=1) untuk setiap aplikasi.\\nObjective: ranking risk & kalibrasi probabilitas untuk keputusan approve/pricing.\\nMetrics: AUC-ROC (utama), AUC-PR, Precision@Top10%, KS, Brier Score.\"\"\"\n",
        "print(problem_statement)"
      ],
      "metadata": {
        "colab": {
          "base_uri": "https://localhost:8080/"
        },
        "id": "FwyypO3fQNbs",
        "outputId": "754175c6-a462-4396-ee1b-6521774f7441"
      },
      "execution_count": 35,
      "outputs": [
        {
          "output_type": "stream",
          "name": "stdout",
          "text": [
            "Problem: memprediksi probabilitas gagal bayar (TARGET=1) untuk setiap aplikasi.\n",
            "Objective: ranking risk & kalibrasi probabilitas untuk keputusan approve/pricing.\n",
            "Metrics: AUC-ROC (utama), AUC-PR, Precision@Top10%, KS, Brier Score.\n"
          ]
        }
      ]
    },
    {
      "cell_type": "markdown",
      "source": [
        "## Quick EDA: distribusi TARGET, missingness top"
      ],
      "metadata": {
        "id": "6H4lFSZeQS1q"
      }
    },
    {
      "cell_type": "code",
      "source": [
        "print(\"Quick EDA:\")\n",
        "print(\"Train shape:\", app_train.shape)\n",
        "print(\"Target distribution:\")\n",
        "print(app_train['TARGET'].value_counts(normalize=True))\n",
        "\n",
        "# missingness top\n",
        "miss = app_train.isna().mean().sort_values(ascending=False).head(10)\n",
        "print(\"\\nTop 10 kolom dengan missing% (train):\")\n",
        "print(miss)"
      ],
      "metadata": {
        "colab": {
          "base_uri": "https://localhost:8080/"
        },
        "id": "BWV5pN5MQUNk",
        "outputId": "2c72314d-8d68-404f-e1f5-b3d2e53a3176"
      },
      "execution_count": 36,
      "outputs": [
        {
          "output_type": "stream",
          "name": "stdout",
          "text": [
            "Quick EDA:\n",
            "Train shape: (3864, 122)\n",
            "Target distribution:\n",
            "TARGET\n",
            "0    0.921584\n",
            "1    0.078416\n",
            "Name: proportion, dtype: float64\n",
            "\n",
            "Top 10 kolom dengan missing% (train):\n",
            "COMMONAREA_AVG              0.692288\n",
            "COMMONAREA_MODE             0.692288\n",
            "COMMONAREA_MEDI             0.692288\n",
            "NONLIVINGAPARTMENTS_MEDI    0.688406\n",
            "NONLIVINGAPARTMENTS_MODE    0.688406\n",
            "NONLIVINGAPARTMENTS_AVG     0.688406\n",
            "LIVINGAPARTMENTS_AVG        0.678830\n",
            "LIVINGAPARTMENTS_MODE       0.678830\n",
            "LIVINGAPARTMENTS_MEDI       0.678830\n",
            "FONDKAPREMONT_MODE          0.673654\n",
            "dtype: float64\n"
          ]
        }
      ]
    },
    {
      "cell_type": "markdown",
      "source": [
        "## AGGREGATION FUNCTIONS (semua history tables)"
      ],
      "metadata": {
        "id": "U4MfeCzdQXwR"
      }
    },
    {
      "cell_type": "code",
      "source": [
        "def agg_previous(df):\n",
        "    if df is None: return None\n",
        "    df = df.copy()\n",
        "    df['APPROVED'] = (df['NAME_CONTRACT_STATUS']=='Approved').astype(int)\n",
        "    agg = df.groupby('SK_ID_CURR').agg({\n",
        "        'SK_ID_PREV': 'nunique',\n",
        "        'AMT_APPLICATION': ['mean','max'],\n",
        "        'AMT_CREDIT': ['mean','max'],\n",
        "        'AMT_ANNUITY': ['mean'],\n",
        "        'APPROVED': ['mean','sum'],\n",
        "        'DAYS_DECISION': ['min','max']\n",
        "    })\n",
        "    agg.columns = ['PREV_' + '_'.join(col).upper() for col in agg.columns]\n",
        "    agg.reset_index(inplace=True)\n",
        "    return agg\n",
        "\n",
        "def agg_installments(df):\n",
        "    if df is None: return None\n",
        "    df = df.copy()\n",
        "    df['LATE_DAYS'] = df['DAYS_ENTRY_PAYMENT'] - df['DAYS_INSTALMENT']\n",
        "    df['IS_LATE'] = (df['LATE_DAYS'] > 0).astype(int)\n",
        "    df['PAYMENT_RATIO'] = df['AMT_PAYMENT'] / df['AMT_INSTALMENT'].replace(0, np.nan)\n",
        "    agg = df.groupby('SK_ID_CURR').agg({\n",
        "        'IS_LATE': ['mean','sum'],\n",
        "        'LATE_DAYS': ['mean','max'],\n",
        "        'PAYMENT_RATIO': ['mean','min'],\n",
        "        'AMT_PAYMENT': ['sum','mean'],\n",
        "        'SK_ID_PREV': ['nunique']\n",
        "    })\n",
        "    agg.columns = ['INST_' + '_'.join(col).upper() for col in agg.columns]\n",
        "    agg.reset_index(inplace=True)\n",
        "    return agg\n",
        "\n",
        "def agg_cc(df):\n",
        "    if df is None: return None\n",
        "    df = df.copy()\n",
        "    df['UTIL'] = df['AMT_BALANCE'] / df['AMT_CREDIT_LIMIT_ACTUAL'].replace(0, np.nan)\n",
        "    agg = df.groupby('SK_ID_CURR').agg({\n",
        "        'MONTHS_BALANCE': ['nunique','min','max'],\n",
        "        'AMT_BALANCE': ['mean','max'],\n",
        "        'AMT_CREDIT_LIMIT_ACTUAL': ['mean'],\n",
        "        'AMT_PAYMENT_TOTAL_CURRENT': ['mean'],\n",
        "        'UTIL': ['mean','max'],\n",
        "        'SK_ID_PREV': ['nunique']\n",
        "    })\n",
        "    agg.columns = ['CC_' + '_'.join(col).upper() for col in agg.columns]\n",
        "    agg.reset_index(inplace=True)\n",
        "    return agg\n",
        "\n",
        "def agg_pos(df):\n",
        "    if df is None: return None\n",
        "    df = df.copy()\n",
        "    if 'NAME_CONTRACT_STATUS' in df.columns:\n",
        "        df['IS_ACTIVE'] = (df['NAME_CONTRACT_STATUS']=='Active').astype(int)\n",
        "    else:\n",
        "        df['IS_ACTIVE'] = 0\n",
        "    agg = df.groupby('SK_ID_CURR').agg({\n",
        "        'MONTHS_BALANCE': ['nunique','min','max'],\n",
        "        'CNT_INSTALMENT': ['mean','max'],\n",
        "        'CNT_INSTALMENT_FUTURE': ['mean'],\n",
        "        'IS_ACTIVE': ['mean'],\n",
        "        'SK_ID_PREV': ['nunique']\n",
        "    })\n",
        "    agg.columns = ['POS_' + '_'.join(col).upper() for col in agg.columns]\n",
        "    agg.reset_index(inplace=True)\n",
        "    return agg\n",
        "\n",
        "def agg_bureau(df_b, df_bbal):\n",
        "    if df_b is None: return None\n",
        "    b = df_b.copy()\n",
        "    if df_bbal is not None:\n",
        "        bbal = df_bbal.copy()\n",
        "        if 'BBAL_IS_CURRENT' not in bbal.columns:\n",
        "            bbal['BBAL_IS_CURRENT'] = (bbal['STATUS']=='C').astype(int)\n",
        "        bbal_agg = bbal.groupby('SK_ID_BUREAU').agg({\n",
        "            'BBAL_IS_CURRENT':['mean'],\n",
        "            'MONTHS_BALANCE':['nunique','min','max']\n",
        "        })\n",
        "        bbal_agg.columns = ['BBAL_' + '_'.join(col).upper() for col in bbal_agg.columns]\n",
        "        bbal_agg.reset_index(inplace=True)\n",
        "        b = b.merge(bbal_agg, left_on='SK_ID_BUREAU', right_on='SK_ID_BUREAU', how='left')\n",
        "    agg = b.groupby('SK_ID_CURR').agg({\n",
        "        'AMT_CREDIT_SUM':['sum','mean'],\n",
        "        'AMT_CREDIT_SUM_DEBT':['mean'],\n",
        "        'AMT_CREDIT_SUM_OVERDUE':['mean'],\n",
        "        'AMT_CREDIT_MAX_OVERDUE':['mean'],\n",
        "        'CNT_CREDIT_PROLONG':['sum']\n",
        "    })\n",
        "    agg.columns = ['BUREAU_' + '_'.join(col).upper() for col in agg.columns]\n",
        "    agg.reset_index(inplace=True)\n",
        "    return agg"
      ],
      "metadata": {
        "id": "GSZOh7YVQZdd"
      },
      "execution_count": 37,
      "outputs": []
    },
    {
      "cell_type": "markdown",
      "source": [
        "## Jalankan agregasi (dengan print status)"
      ],
      "metadata": {
        "id": "ZHk_fgUNQdir"
      }
    },
    {
      "cell_type": "code",
      "source": [
        "t0 = time.time()\n",
        "print(\"Aggregate previous_application ...\")\n",
        "prev_agg = agg_previous(previous)\n",
        "print(\"Aggregate installments_payments ...\")\n",
        "inst_agg = agg_installments(install)\n",
        "print(\"Aggregate credit_card_balance ...\")\n",
        "cc_agg = agg_cc(cc_bal)\n",
        "print(\"Aggregate POS_CASH_balance ...\")\n",
        "pos_agg = agg_pos(pos_bal)\n",
        "print(\"Aggregate bureau + bureau_balance ...\")\n",
        "bureau_agg = agg_bureau(bureau, bbal)\n",
        "print(\"Aggregations done in %.1fs\" % (time.time()-t0))"
      ],
      "metadata": {
        "colab": {
          "base_uri": "https://localhost:8080/"
        },
        "id": "F4UeBaENQgUb",
        "outputId": "9e99305f-1770-4ea4-86ca-86270afc38f1"
      },
      "execution_count": 38,
      "outputs": [
        {
          "output_type": "stream",
          "name": "stdout",
          "text": [
            "Aggregate previous_application ...\n",
            "Aggregate installments_payments ...\n",
            "Aggregate credit_card_balance ...\n",
            "Aggregate POS_CASH_balance ...\n",
            "Aggregate bureau + bureau_balance ...\n",
            "Aggregations done in 1.4s\n"
          ]
        }
      ]
    },
    {
      "cell_type": "markdown",
      "source": [
        "## Merge agregat ke application_train / test"
      ],
      "metadata": {
        "id": "YoT-DFKPQiEA"
      }
    },
    {
      "cell_type": "code",
      "source": [
        "def merge_all(app_df, aggs):\n",
        "    df = app_df.copy()\n",
        "    for k,v in aggs.items():\n",
        "        if v is not None:\n",
        "            print(\"Merging\", k, v.shape)\n",
        "            df = df.merge(v, on='SK_ID_CURR', how='left')\n",
        "        else:\n",
        "            print(\"Skip\", k)\n",
        "    return df\n",
        "\n",
        "aggs = {'prev': prev_agg, 'inst': inst_agg, 'cc': cc_agg, 'pos': pos_agg, 'bureau': bureau_agg}\n",
        "train = merge_all(app_train, aggs)\n",
        "test = merge_all(app_test, aggs) if app_test is not None else None"
      ],
      "metadata": {
        "colab": {
          "base_uri": "https://localhost:8080/"
        },
        "id": "Q_A0IQp_Qk1z",
        "outputId": "d5bbb092-2b16-4f9c-afab-b749bd9232bf"
      },
      "execution_count": 39,
      "outputs": [
        {
          "output_type": "stream",
          "name": "stdout",
          "text": [
            "Merging prev (139739, 11)\n",
            "Merging inst (91300, 10)\n",
            "Merging cc (87171, 11)\n",
            "Merging pos (44950, 9)\n",
            "Merging bureau (126897, 7)\n",
            "Merging prev (139739, 11)\n",
            "Merging inst (91300, 10)\n",
            "Merging cc (87171, 11)\n",
            "Merging pos (44950, 9)\n",
            "Merging bureau (126897, 7)\n"
          ]
        }
      ]
    },
    {
      "cell_type": "markdown",
      "source": [
        "## Feature engineering dasar (dari application)"
      ],
      "metadata": {
        "id": "wPMfu_OIQnH9"
      }
    },
    {
      "cell_type": "code",
      "source": [
        "def create_basic_features(df):\n",
        "    df = df.copy()\n",
        "    if 'DAYS_BIRTH' in df.columns:\n",
        "        df['AGE_YEARS'] = (-df['DAYS_BIRTH'])/365.25\n",
        "    if 'DAYS_EMPLOYED' in df.columns:\n",
        "        df['EMPLOYED_YEARS'] = (-df['DAYS_EMPLOYED'])/365.25\n",
        "    df['CREDIT_INCOME_RATIO'] = df['AMT_CREDIT'] / df['AMT_INCOME_TOTAL'].replace(0,np.nan)\n",
        "    df['ANNUITY_INCOME_RATIO'] = df['AMT_ANNUITY'] / df['AMT_INCOME_TOTAL'].replace(0,np.nan)\n",
        "    df['CREDIT_GOODS_RATIO'] = df['AMT_CREDIT'] / df['AMT_GOODS_PRICE'].replace(0,np.nan)\n",
        "    return df\n",
        "\n",
        "train = create_basic_features(train)\n",
        "if test is not None:\n",
        "    test = create_basic_features(test)"
      ],
      "metadata": {
        "id": "ignfEHIdQq4N"
      },
      "execution_count": 40,
      "outputs": []
    },
    {
      "cell_type": "markdown",
      "source": [
        "## EDA lanjut: Top-2 insights (kuantitatif) & actionable"
      ],
      "metadata": {
        "id": "vxZASbIAQsr0"
      }
    },
    {
      "cell_type": "code",
      "source": [
        "# Pastikan variabel 'train' sudah ada dan mengandung kolom TARGET\n",
        "print(\"Train shape:\", train.shape)\n",
        "print(\"Target rate:\", train['TARGET'].mean())"
      ],
      "metadata": {
        "colab": {
          "base_uri": "https://localhost:8080/"
        },
        "id": "AWdA9uDMQw6g",
        "outputId": "94375328-4d5a-4b5a-ba0f-0ca3414643a9"
      },
      "execution_count": 42,
      "outputs": [
        {
          "output_type": "stream",
          "name": "stdout",
          "text": [
            "Train shape: (3864, 170)\n",
            "Target rate: 0.07841614906832298\n"
          ]
        }
      ]
    },
    {
      "cell_type": "code",
      "source": [
        "# Group by income type\n",
        "if 'NAME_INCOME_TYPE' in train.columns:\n",
        "    grp_income = train.groupby('NAME_INCOME_TYPE').agg(\n",
        "        total_apps=('TARGET','count'),\n",
        "        mean_default=('TARGET','mean')\n",
        "    ).sort_values('mean_default', ascending=False)\n",
        "    print(\"\\nTop groups by default rate (income_type):\")\n",
        "    print(grp_income.head(10))\n",
        "else:\n",
        "    print(\"\\nKolom NAME_INCOME_TYPE tidak ditemukan di train.\")"
      ],
      "metadata": {
        "colab": {
          "base_uri": "https://localhost:8080/"
        },
        "id": "PYY7J-_MRMHw",
        "outputId": "a499de6e-8ab1-4a53-eb63-f390d489bb0c"
      },
      "execution_count": 43,
      "outputs": [
        {
          "output_type": "stream",
          "name": "stdout",
          "text": [
            "\n",
            "Top groups by default rate (income_type):\n",
            "                      total_apps  mean_default\n",
            "NAME_INCOME_TYPE                              \n",
            "Working                     2004      0.093812\n",
            "Commercial associate         912      0.067982\n",
            "Pensioner                    710      0.063380\n",
            "State servant                237      0.033755\n",
            "Unemployed                     1      0.000000\n"
          ]
        }
      ]
    },
    {
      "cell_type": "code",
      "source": [
        "# 2) Robust quantile bucketing untuk kolom lateness (INST_IS_LATE_MEAN)\n",
        "candidate_cols = [c for c in train.columns if 'IS_LATE' in c.upper() or 'LATE' in c.upper()]\n",
        "print(\"\\nCandidate lateness columns:\", candidate_cols[:10])\n",
        "\n",
        "# Pilih kolom preferensi: pakai INST_IS_LATE_MEAN jika ada, else ambil candidate pertama\n",
        "col = 'INST_IS_LATE_MEAN' if 'INST_IS_LATE_MEAN' in train.columns else (candidate_cols[0] if len(candidate_cols)>0 else None)\n",
        "\n",
        "if col is None:\n",
        "    print(\"\\nTidak ditemukan kolom lateness (IS_LATE) untuk dianalisis.\")\n",
        "else:\n",
        "    print(f\"\\nAnalisis lateness menggunakan kolom: {col}\")\n",
        "    s = train[col].fillna(0).astype(float)  # fillna 0 untuk kejelasan\n",
        "    uniq = s.nunique()\n",
        "    print(f\" Unique values: {uniq}; min={s.min()}, max={s.max()}, median={s.median()}\")\n",
        "\n",
        "    if uniq <= 1:\n",
        "        # Semua nilai sama (konstan)\n",
        "        print(f\"Kolom {col} bersifat konstanta (semua nilai sama). Default rate keseluruhan = {train['TARGET'].mean():.4f}\")\n",
        "    else:\n",
        "        # Coba qcut dengan duplicates='drop' (akan mengurangi jumlah bucket jika perlu)\n",
        "        try:\n",
        "            bins = 5\n",
        "            q = pd.qcut(s, q=bins, labels=False, duplicates='drop')\n",
        "            n_bins_actual = q.nunique(dropna=True)\n",
        "            print(f\"pd.qcut berhasil. Jumlah bucket yang terbentuk: {n_bins_actual}\")\n",
        "            tmp = pd.DataFrame({'TARGET': train['TARGET'].values, col: s.values, 'q': q})\n",
        "            qdf = tmp.groupby('q').agg(default_rate=('TARGET','mean'), count=('TARGET','count')).sort_index()\n",
        "            print(\"\\nLate payment quantiles -> default rate (qcut, duplicates='drop'):\")\n",
        "            print(qdf)\n",
        "        except Exception as e:\n",
        "            print(\"pd.qcut gagal dengan error:\", e)\n",
        "            # fallback: buat bin berdasarkan kuantil unik\n",
        "            try:\n",
        "                quantiles = np.unique(np.quantile(s, np.linspace(0,1,6)))\n",
        "                if len(quantiles) <= 2:\n",
        "                    raise ValueError(\"Batas quantile tidak cukup unik.\")\n",
        "                q2 = pd.cut(s, bins=quantiles, labels=False, include_lowest=True)\n",
        "                tmp = pd.DataFrame({'TARGET': train['TARGET'].values, col: s.values, 'q': q2})\n",
        "                qdf = tmp.groupby('q').agg(default_rate=('TARGET','mean'), count=('TARGET','count')).sort_index()\n",
        "                print(\"\\nFallback: pd.cut dengan batas kuantil unik -> default rate:\")\n",
        "                print(qdf)\n",
        "            except Exception as e2:\n",
        "                print(\"Fallback pd.cut juga gagal:\", e2)\n",
        "                # terakhir: tampilkan distribusi default rate by unique value (agregasi by value)\n",
        "                valgrp = pd.DataFrame({'val': s.values, 'TARGET': train['TARGET'].values}).groupby('val').agg(default_rate=('TARGET','mean'), count=('TARGET','count')).sort_values('count', ascending=False).head(20)\n",
        "                print(\"\\nFallback terakhir: default rate grouped by unique lateness value (top 20):\")\n",
        "                print(valgrp)"
      ],
      "metadata": {
        "colab": {
          "base_uri": "https://localhost:8080/"
        },
        "id": "Sa37dRR8RUzw",
        "outputId": "b88d3a95-ae5d-4f67-e121-fdb147f603c8"
      },
      "execution_count": 45,
      "outputs": [
        {
          "output_type": "stream",
          "name": "stdout",
          "text": [
            "\n",
            "Candidate lateness columns: ['INST_IS_LATE_MEAN', 'INST_IS_LATE_SUM', 'INST_LATE_DAYS_MEAN', 'INST_LATE_DAYS_MAX']\n",
            "\n",
            "Analisis lateness menggunakan kolom: INST_IS_LATE_MEAN\n",
            " Unique values: 178; min=0.0, max=1.0, median=0.0\n",
            "pd.qcut berhasil. Jumlah bucket yang terbentuk: 2\n",
            "\n",
            "Late payment quantiles -> default rate (qcut, duplicates='drop'):\n",
            "   default_rate  count\n",
            "q                     \n",
            "0      0.079909   3091\n",
            "1      0.072445    773\n"
          ]
        }
      ]
    },
    {
      "cell_type": "code",
      "source": [
        "# Susun top-2 insights berdasar hasil di atas (jika tersedia)\n",
        "insights = []\n",
        "\n",
        "# insight dari income_type (contoh actionable)\n",
        "if 'NAME_INCOME_TYPE' in train.columns:\n",
        "    # ambil group dengan lowest default rate (potensi target acquisition) dan highest default rate (potensi mitigasi)\n",
        "    low = grp_income.sort_values('mean_default').head(1)\n",
        "    high = grp_income.sort_values('mean_default', ascending=False).head(1)\n",
        "    low_name = low.index[0]\n",
        "    low_rate = low['mean_default'].values[0]\n",
        "    high_name = high.index[0]\n",
        "    high_rate = high['mean_default'].values[0]\n",
        "    insights.append({\n",
        "        'title': f\"Segment rendah risiko: {low_name}\",\n",
        "        'evidence': f\"Default rate {low_rate:.2%} dari {low['total_apps'].values[0]} aplikasi\",\n",
        "        'action': f\"Target marketing & special offer untuk meningkatkan share aplikasi dari {low_name}\"\n",
        "    })\n",
        "    insights.append({\n",
        "        'title': f\"Segment tinggi risiko: {high_name}\",\n",
        "        'evidence': f\"Default rate {high_rate:.2%} dari {high['total_apps'].values[0]} aplikasi\",\n",
        "        'action': f\"Perkuat credit policy / require additional docs untuk {high_name}\"\n",
        "    })\n",
        "else:\n",
        "    # fallback generic insight based on EXT_SOURCE_2 correlation if exists\n",
        "    if 'EXT_SOURCE_2' in train.columns:\n",
        "        corr = train[['EXT_SOURCE_2','TARGET']].dropna()['EXT_SOURCE_2'].corr(train['TARGET'].dropna())\n",
        "        insights.append({\n",
        "            'title': \"EXT_SOURCE_2 correlates with default\",\n",
        "            'evidence': f\"Corr(EXT_SOURCE_2, TARGET) = {corr:.3f}\",\n",
        "            'action': \"Gunakan EXT_SOURCE_2 untuk score & segmentation\"\n",
        "        })\n",
        "\n",
        "# Print top insights\n",
        "print(\"\\nTop-2 Insights (siap untuk slide):\")\n",
        "for i, it in enumerate(insights[:2], 1):\n",
        "    print(f\"{i}. {it['title']}\")\n",
        "    print(f\"   Evidence: {it['evidence']}\")\n",
        "    print(f\"   Action  : {it['action']}\\n\")"
      ],
      "metadata": {
        "colab": {
          "base_uri": "https://localhost:8080/"
        },
        "id": "8vi3pjnQRbZ7",
        "outputId": "d7dd866f-cb2d-486f-f8ee-9c6dd390a8da"
      },
      "execution_count": 46,
      "outputs": [
        {
          "output_type": "stream",
          "name": "stdout",
          "text": [
            "\n",
            "Top-2 Insights (siap untuk slide):\n",
            "1. Segment rendah risiko: Unemployed\n",
            "   Evidence: Default rate 0.00% dari 1 aplikasi\n",
            "   Action  : Target marketing & special offer untuk meningkatkan share aplikasi dari Unemployed\n",
            "\n",
            "2. Segment tinggi risiko: Working\n",
            "   Evidence: Default rate 9.38% dari 2004 aplikasi\n",
            "   Action  : Perkuat credit policy / require additional docs untuk Working\n",
            "\n"
          ]
        }
      ]
    },
    {
      "cell_type": "markdown",
      "source": [
        "## MACHINE LEARNING MODELING & EVALUATION"
      ],
      "metadata": {
        "id": "Yw3iYpHPRloJ"
      }
    },
    {
      "cell_type": "code",
      "source": [
        "# Ambil X dan y\n",
        "y = train['TARGET']\n",
        "X = train.drop(columns=['TARGET'])\n",
        "\n",
        "# Buat encoding otomatis untuk variabel kategorikal\n",
        "X = pd.get_dummies(X, drop_first=True)\n",
        "\n",
        "# Hilangkan kolom yang hanya 1 nilai (konstan)\n",
        "X = X.loc[:, X.nunique() > 1]\n",
        "\n",
        "# Isi NaN dengan median\n",
        "X = X.fillna(X.median(numeric_only=True))\n",
        "\n",
        "# Split train/test\n",
        "X_train, X_test, y_train, y_test = train_test_split(X, y, test_size=0.2, stratify=y, random_state=42)\n",
        "\n",
        "# Standardisasi (beberapa model butuh scaling)\n",
        "scaler = StandardScaler()\n",
        "X_train_scaled = scaler.fit_transform(X_train)\n",
        "X_test_scaled = scaler.transform(X_test)\n",
        "\n",
        "def eval_model(name, y_true, y_prob):\n",
        "    auc = roc_auc_score(y_true, y_prob)\n",
        "    ap = average_precision_score(y_true, y_prob)\n",
        "    fpr, tpr, _ = roc_curve(y_true, y_prob)\n",
        "    ks = max(tpr - fpr)\n",
        "    brier = brier_score_loss(y_true, y_prob)\n",
        "    return {'Model': name, 'AUC': auc, 'AUC_PR': ap, 'KS': ks, 'Brier': brier}\n",
        "\n",
        "results = []"
      ],
      "metadata": {
        "id": "V45b7i_oRjrm"
      },
      "execution_count": 48,
      "outputs": []
    },
    {
      "cell_type": "code",
      "source": [
        "# Logistic Regression\n",
        "lr = LogisticRegression(max_iter=1000, class_weight='balanced', random_state=42)\n",
        "lr.fit(X_train_scaled, y_train)\n",
        "lr_prob = lr.predict_proba(X_test_scaled)[:, 1]\n",
        "results.append(eval_model('Logistic Regression', y_test, lr_prob))"
      ],
      "metadata": {
        "id": "7C5nUpcERtpx"
      },
      "execution_count": 49,
      "outputs": []
    },
    {
      "cell_type": "code",
      "source": [
        "# Random Forest\n",
        "rf = RandomForestClassifier(n_estimators=200, max_depth=10, random_state=42, class_weight='balanced')\n",
        "rf.fit(X_train, y_train)\n",
        "rf_prob = rf.predict_proba(X_test)[:, 1]\n",
        "results.append(eval_model('Random Forest', y_test, rf_prob))"
      ],
      "metadata": {
        "id": "wVuALnB2RwwH"
      },
      "execution_count": 50,
      "outputs": []
    },
    {
      "cell_type": "code",
      "source": [
        "# XGBoost\n",
        "xgb_clf = xgb.XGBClassifier(\n",
        "    n_estimators=500,\n",
        "    max_depth=5,\n",
        "    learning_rate=0.05,\n",
        "    subsample=0.8,\n",
        "    colsample_bytree=0.8,\n",
        "    eval_metric='auc',\n",
        "    random_state=42,\n",
        ")\n",
        "xgb_clf.fit(X_train, y_train)\n",
        "xgb_prob = xgb_clf.predict_proba(X_test)[:, 1]\n",
        "results.append(eval_model('XGBoost', y_test, xgb_prob))"
      ],
      "metadata": {
        "id": "sorPJGcdRzaY"
      },
      "execution_count": 51,
      "outputs": []
    },
    {
      "cell_type": "code",
      "source": [
        "# Bandingkan hasil\n",
        "df_results = pd.DataFrame(results).set_index('Model')\n",
        "print(\"\\n=== Hasil Evaluasi Model ===\")\n",
        "print(df_results)"
      ],
      "metadata": {
        "colab": {
          "base_uri": "https://localhost:8080/"
        },
        "id": "sy6IRy4GR2W2",
        "outputId": "de17302b-a878-4b24-ab1d-40f6e4dfca07"
      },
      "execution_count": 52,
      "outputs": [
        {
          "output_type": "stream",
          "name": "stdout",
          "text": [
            "\n",
            "=== Hasil Evaluasi Model ===\n",
            "                          AUC    AUC_PR        KS     Brier\n",
            "Model                                                      \n",
            "Logistic Regression  0.687373  0.144999  0.351446  0.176172\n",
            "Random Forest        0.692600  0.170403  0.334108  0.104608\n",
            "XGBoost              0.711710  0.179617  0.358468  0.072946\n"
          ]
        }
      ]
    },
    {
      "cell_type": "code",
      "source": [
        "# Visualisasi AUC ROC\n",
        "plt.figure(figsize=(7,5))\n",
        "for name, prob in [('LR', lr_prob), ('RF', rf_prob), ('XGB', xgb_prob)]:\n",
        "    fpr, tpr, _ = roc_curve(y_test, prob)\n",
        "    plt.plot(fpr, tpr, label=f'{name} (AUC={roc_auc_score(y_test, prob):.3f})')\n",
        "plt.plot([0,1],[0,1],'--',color='gray')\n",
        "plt.xlabel('False Positive Rate')\n",
        "plt.ylabel('True Positive Rate')\n",
        "plt.title('ROC Curve per Model')\n",
        "plt.legend()\n",
        "plt.show()"
      ],
      "metadata": {
        "colab": {
          "base_uri": "https://localhost:8080/",
          "height": 487
        },
        "id": "jnIdyB4RR4EO",
        "outputId": "5ac1b1ef-d896-4821-8bfe-52fbbd328ae5"
      },
      "execution_count": 53,
      "outputs": [
        {
          "output_type": "display_data",
          "data": {
            "text/plain": [
              "<Figure size 700x500 with 1 Axes>"
            ],
            "image/png": "[encoded data removed]"
          },
          "metadata": {}
        }
      ]
    },
    {
      "cell_type": "markdown",
      "source": [
        "## BUSINESS IMPACT & RECOMMENDATION"
      ],
      "metadata": {
        "id": "nmUAd8RnR9ln"
      }
    },
    {
      "cell_type": "code",
      "source": [
        "best_model = df_results['AUC'].idxmax()\n",
        "best_auc = df_results.loc[best_model, 'AUC']\n",
        "best_brier = df_results.loc[best_model, 'Brier']\n",
        "\n",
        "print(f\"\\nModel terbaik: {best_model} dengan AUC={best_auc:.3f} dan Brier={best_brier:.3f}\")\n",
        "\n",
        "print(\"\\nRekomendasi bisnis:\")\n",
        "print(f\"1️⃣ Gunakan model {best_model} untuk screening awal pengajuan kredit.\")\n",
        "print(\"2️⃣ Implementasikan cut-off probability untuk mengurangi false accept (nasabah berisiko tinggi).\")\n",
        "print(\"3️⃣ Terapkan kampanye akuisisi untuk segmen berisiko rendah (contohnya PNS atau State Servant).\")\n",
        "print(\"4️⃣ Integrasikan hasil model ke dalam sistem credit scoring & pricing otomatis.\")\n",
        "print(\"5️⃣ Evaluasi model setiap 6 bulan untuk menjaga stabilitas performa dan fairness.\")"
      ],
      "metadata": {
        "colab": {
          "base_uri": "https://localhost:8080/"
        },
        "id": "XxAdkTk7SAR7",
        "outputId": "23aefa1d-382c-4621-f699-be024c7aa65a"
      },
      "execution_count": 54,
      "outputs": [
        {
          "output_type": "stream",
          "name": "stdout",
          "text": [
            "\n",
            "Model terbaik: XGBoost dengan AUC=0.712 dan Brier=0.073\n",
            "\n",
            "Rekomendasi bisnis:\n",
            "1️⃣ Gunakan model XGBoost untuk screening awal pengajuan kredit.\n",
            "2️⃣ Implementasikan cut-off probability untuk mengurangi false accept (nasabah berisiko tinggi).\n",
            "3️⃣ Terapkan kampanye akuisisi untuk segmen berisiko rendah (contohnya PNS atau State Servant).\n",
            "4️⃣ Integrasikan hasil model ke dalam sistem credit scoring & pricing otomatis.\n",
            "5️⃣ Evaluasi model setiap 6 bulan untuk menjaga stabilitas performa dan fairness.\n"
          ]
        }
      ]
    }
  ]
}